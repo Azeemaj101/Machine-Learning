{
 "cells": [
  {
   "cell_type": "code",
   "execution_count": 1,
   "id": "63c02a2d",
   "metadata": {},
   "outputs": [],
   "source": [
    "import numpy as np\n",
    "import pandas as pd\n",
    "import matplotlib.pyplot as plt\n",
    "import seaborn as sns\n",
    "from sklearn.model_selection import train_test_split\n",
    "from sklearn.linear_model import LinearRegression\n",
    "from sklearn.linear_model import Lasso\n",
    "from sklearn import metrics"
   ]
  },
  {
   "cell_type": "code",
   "execution_count": 2,
   "id": "f50d4630",
   "metadata": {},
   "outputs": [],
   "source": [
    "df = pd.read_csv(\"./CSV_Files/car_data.csv\")"
   ]
  },
  {
   "cell_type": "code",
   "execution_count": 3,
   "id": "95c807d1",
   "metadata": {
    "scrolled": true
   },
   "outputs": [
    {
     "data": {
      "text/html": [
       "<div>\n",
       "<style scoped>\n",
       "    .dataframe tbody tr th:only-of-type {\n",
       "        vertical-align: middle;\n",
       "    }\n",
       "\n",
       "    .dataframe tbody tr th {\n",
       "        vertical-align: top;\n",
       "    }\n",
       "\n",
       "    .dataframe thead th {\n",
       "        text-align: right;\n",
       "    }\n",
       "</style>\n",
       "<table border=\"1\" class=\"dataframe\">\n",
       "  <thead>\n",
       "    <tr style=\"text-align: right;\">\n",
       "      <th></th>\n",
       "      <th>Car_Name</th>\n",
       "      <th>Year</th>\n",
       "      <th>Selling_Price</th>\n",
       "      <th>Present_Price</th>\n",
       "      <th>Kms_Driven</th>\n",
       "      <th>Fuel_Type</th>\n",
       "      <th>Seller_Type</th>\n",
       "      <th>Transmission</th>\n",
       "      <th>Owner</th>\n",
       "    </tr>\n",
       "  </thead>\n",
       "  <tbody>\n",
       "    <tr>\n",
       "      <th>0</th>\n",
       "      <td>ritz</td>\n",
       "      <td>2014</td>\n",
       "      <td>3.35</td>\n",
       "      <td>5.59</td>\n",
       "      <td>27000</td>\n",
       "      <td>Petrol</td>\n",
       "      <td>Dealer</td>\n",
       "      <td>Manual</td>\n",
       "      <td>0</td>\n",
       "    </tr>\n",
       "    <tr>\n",
       "      <th>1</th>\n",
       "      <td>sx4</td>\n",
       "      <td>2013</td>\n",
       "      <td>4.75</td>\n",
       "      <td>9.54</td>\n",
       "      <td>43000</td>\n",
       "      <td>Diesel</td>\n",
       "      <td>Dealer</td>\n",
       "      <td>Manual</td>\n",
       "      <td>0</td>\n",
       "    </tr>\n",
       "    <tr>\n",
       "      <th>2</th>\n",
       "      <td>ciaz</td>\n",
       "      <td>2017</td>\n",
       "      <td>7.25</td>\n",
       "      <td>9.85</td>\n",
       "      <td>6900</td>\n",
       "      <td>Petrol</td>\n",
       "      <td>Dealer</td>\n",
       "      <td>Manual</td>\n",
       "      <td>0</td>\n",
       "    </tr>\n",
       "    <tr>\n",
       "      <th>3</th>\n",
       "      <td>wagon r</td>\n",
       "      <td>2011</td>\n",
       "      <td>2.85</td>\n",
       "      <td>4.15</td>\n",
       "      <td>5200</td>\n",
       "      <td>Petrol</td>\n",
       "      <td>Dealer</td>\n",
       "      <td>Manual</td>\n",
       "      <td>0</td>\n",
       "    </tr>\n",
       "    <tr>\n",
       "      <th>4</th>\n",
       "      <td>swift</td>\n",
       "      <td>2014</td>\n",
       "      <td>4.60</td>\n",
       "      <td>6.87</td>\n",
       "      <td>42450</td>\n",
       "      <td>Diesel</td>\n",
       "      <td>Dealer</td>\n",
       "      <td>Manual</td>\n",
       "      <td>0</td>\n",
       "    </tr>\n",
       "  </tbody>\n",
       "</table>\n",
       "</div>"
      ],
      "text/plain": [
       "  Car_Name  Year  Selling_Price  Present_Price  Kms_Driven Fuel_Type  \\\n",
       "0     ritz  2014           3.35           5.59       27000    Petrol   \n",
       "1      sx4  2013           4.75           9.54       43000    Diesel   \n",
       "2     ciaz  2017           7.25           9.85        6900    Petrol   \n",
       "3  wagon r  2011           2.85           4.15        5200    Petrol   \n",
       "4    swift  2014           4.60           6.87       42450    Diesel   \n",
       "\n",
       "  Seller_Type Transmission  Owner  \n",
       "0      Dealer       Manual      0  \n",
       "1      Dealer       Manual      0  \n",
       "2      Dealer       Manual      0  \n",
       "3      Dealer       Manual      0  \n",
       "4      Dealer       Manual      0  "
      ]
     },
     "execution_count": 3,
     "metadata": {},
     "output_type": "execute_result"
    }
   ],
   "source": [
    "df.head()"
   ]
  },
  {
   "cell_type": "code",
   "execution_count": 4,
   "id": "e6165fee",
   "metadata": {},
   "outputs": [
    {
     "name": "stdout",
     "output_type": "stream",
     "text": [
      "<class 'pandas.core.frame.DataFrame'>\n",
      "RangeIndex: 301 entries, 0 to 300\n",
      "Data columns (total 9 columns):\n",
      " #   Column         Non-Null Count  Dtype  \n",
      "---  ------         --------------  -----  \n",
      " 0   Car_Name       301 non-null    object \n",
      " 1   Year           301 non-null    int64  \n",
      " 2   Selling_Price  301 non-null    float64\n",
      " 3   Present_Price  301 non-null    float64\n",
      " 4   Kms_Driven     301 non-null    int64  \n",
      " 5   Fuel_Type      301 non-null    object \n",
      " 6   Seller_Type    301 non-null    object \n",
      " 7   Transmission   301 non-null    object \n",
      " 8   Owner          301 non-null    int64  \n",
      "dtypes: float64(2), int64(3), object(4)\n",
      "memory usage: 21.3+ KB\n"
     ]
    }
   ],
   "source": [
    "df.info()"
   ]
  },
  {
   "cell_type": "code",
   "execution_count": 5,
   "id": "d7242cec",
   "metadata": {},
   "outputs": [
    {
     "data": {
      "text/plain": [
       "(301, 9)"
      ]
     },
     "execution_count": 5,
     "metadata": {},
     "output_type": "execute_result"
    }
   ],
   "source": [
    "df.shape"
   ]
  },
  {
   "cell_type": "code",
   "execution_count": 6,
   "id": "4e276df1",
   "metadata": {},
   "outputs": [
    {
     "data": {
      "text/plain": [
       "Car_Name         0\n",
       "Year             0\n",
       "Selling_Price    0\n",
       "Present_Price    0\n",
       "Kms_Driven       0\n",
       "Fuel_Type        0\n",
       "Seller_Type      0\n",
       "Transmission     0\n",
       "Owner            0\n",
       "dtype: int64"
      ]
     },
     "execution_count": 6,
     "metadata": {},
     "output_type": "execute_result"
    }
   ],
   "source": [
    "df.isnull().sum()"
   ]
  },
  {
   "cell_type": "code",
   "execution_count": 7,
   "id": "4528c604",
   "metadata": {},
   "outputs": [
    {
     "name": "stdout",
     "output_type": "stream",
     "text": [
      "Petrol    239\n",
      "Diesel     60\n",
      "CNG         2\n",
      "Name: Fuel_Type, dtype: int64\n",
      "Dealer        195\n",
      "Individual    106\n",
      "Name: Seller_Type, dtype: int64\n",
      "Manual       261\n",
      "Automatic     40\n",
      "Name: Transmission, dtype: int64\n"
     ]
    }
   ],
   "source": [
    "print(df.Fuel_Type.value_counts())\n",
    "print(df.Seller_Type.value_counts())\n",
    "print(df.Transmission.value_counts())"
   ]
  },
  {
   "cell_type": "code",
   "execution_count": 8,
   "id": "4cd6675f",
   "metadata": {},
   "outputs": [],
   "source": [
    "df.replace({\"Fuel_Type\":{'Petrol':0, 'Diesel':1, 'CNG':2}}, inplace=True)\n",
    "df.replace({'Seller_Type':{'Dealer':0, 'Individual':1}}, inplace=True)\n",
    "df.replace({'Transmission':{'Manual':0, 'Automatic':1}}, inplace=True)"
   ]
  },
  {
   "cell_type": "code",
   "execution_count": 9,
   "id": "66c3bec0",
   "metadata": {},
   "outputs": [
    {
     "data": {
      "text/html": [
       "<div>\n",
       "<style scoped>\n",
       "    .dataframe tbody tr th:only-of-type {\n",
       "        vertical-align: middle;\n",
       "    }\n",
       "\n",
       "    .dataframe tbody tr th {\n",
       "        vertical-align: top;\n",
       "    }\n",
       "\n",
       "    .dataframe thead th {\n",
       "        text-align: right;\n",
       "    }\n",
       "</style>\n",
       "<table border=\"1\" class=\"dataframe\">\n",
       "  <thead>\n",
       "    <tr style=\"text-align: right;\">\n",
       "      <th></th>\n",
       "      <th>Car_Name</th>\n",
       "      <th>Year</th>\n",
       "      <th>Selling_Price</th>\n",
       "      <th>Present_Price</th>\n",
       "      <th>Kms_Driven</th>\n",
       "      <th>Fuel_Type</th>\n",
       "      <th>Seller_Type</th>\n",
       "      <th>Transmission</th>\n",
       "      <th>Owner</th>\n",
       "    </tr>\n",
       "  </thead>\n",
       "  <tbody>\n",
       "    <tr>\n",
       "      <th>0</th>\n",
       "      <td>ritz</td>\n",
       "      <td>2014</td>\n",
       "      <td>3.35</td>\n",
       "      <td>5.59</td>\n",
       "      <td>27000</td>\n",
       "      <td>0</td>\n",
       "      <td>0</td>\n",
       "      <td>0</td>\n",
       "      <td>0</td>\n",
       "    </tr>\n",
       "    <tr>\n",
       "      <th>1</th>\n",
       "      <td>sx4</td>\n",
       "      <td>2013</td>\n",
       "      <td>4.75</td>\n",
       "      <td>9.54</td>\n",
       "      <td>43000</td>\n",
       "      <td>1</td>\n",
       "      <td>0</td>\n",
       "      <td>0</td>\n",
       "      <td>0</td>\n",
       "    </tr>\n",
       "    <tr>\n",
       "      <th>2</th>\n",
       "      <td>ciaz</td>\n",
       "      <td>2017</td>\n",
       "      <td>7.25</td>\n",
       "      <td>9.85</td>\n",
       "      <td>6900</td>\n",
       "      <td>0</td>\n",
       "      <td>0</td>\n",
       "      <td>0</td>\n",
       "      <td>0</td>\n",
       "    </tr>\n",
       "    <tr>\n",
       "      <th>3</th>\n",
       "      <td>wagon r</td>\n",
       "      <td>2011</td>\n",
       "      <td>2.85</td>\n",
       "      <td>4.15</td>\n",
       "      <td>5200</td>\n",
       "      <td>0</td>\n",
       "      <td>0</td>\n",
       "      <td>0</td>\n",
       "      <td>0</td>\n",
       "    </tr>\n",
       "    <tr>\n",
       "      <th>4</th>\n",
       "      <td>swift</td>\n",
       "      <td>2014</td>\n",
       "      <td>4.60</td>\n",
       "      <td>6.87</td>\n",
       "      <td>42450</td>\n",
       "      <td>1</td>\n",
       "      <td>0</td>\n",
       "      <td>0</td>\n",
       "      <td>0</td>\n",
       "    </tr>\n",
       "  </tbody>\n",
       "</table>\n",
       "</div>"
      ],
      "text/plain": [
       "  Car_Name  Year  Selling_Price  Present_Price  Kms_Driven  Fuel_Type  \\\n",
       "0     ritz  2014           3.35           5.59       27000          0   \n",
       "1      sx4  2013           4.75           9.54       43000          1   \n",
       "2     ciaz  2017           7.25           9.85        6900          0   \n",
       "3  wagon r  2011           2.85           4.15        5200          0   \n",
       "4    swift  2014           4.60           6.87       42450          1   \n",
       "\n",
       "   Seller_Type  Transmission  Owner  \n",
       "0            0             0      0  \n",
       "1            0             0      0  \n",
       "2            0             0      0  \n",
       "3            0             0      0  \n",
       "4            0             0      0  "
      ]
     },
     "execution_count": 9,
     "metadata": {},
     "output_type": "execute_result"
    }
   ],
   "source": [
    "df.head()"
   ]
  },
  {
   "cell_type": "code",
   "execution_count": 10,
   "id": "d4beb4f7",
   "metadata": {},
   "outputs": [],
   "source": [
    "X = df.drop(['Car_Name','Selling_Price'],axis=1)\n",
    "y = df['Selling_Price']"
   ]
  },
  {
   "cell_type": "code",
   "execution_count": 11,
   "id": "0a0e8fbd",
   "metadata": {},
   "outputs": [],
   "source": [
    "X_train, X_test, y_train, y_test = train_test_split(X,y, test_size=0.1, random_state=1)"
   ]
  },
  {
   "cell_type": "code",
   "execution_count": 12,
   "id": "b62cb40a",
   "metadata": {
    "scrolled": true
   },
   "outputs": [
    {
     "data": {
      "text/html": [
       "<div>\n",
       "<style scoped>\n",
       "    .dataframe tbody tr th:only-of-type {\n",
       "        vertical-align: middle;\n",
       "    }\n",
       "\n",
       "    .dataframe tbody tr th {\n",
       "        vertical-align: top;\n",
       "    }\n",
       "\n",
       "    .dataframe thead th {\n",
       "        text-align: right;\n",
       "    }\n",
       "</style>\n",
       "<table border=\"1\" class=\"dataframe\">\n",
       "  <thead>\n",
       "    <tr style=\"text-align: right;\">\n",
       "      <th></th>\n",
       "      <th>Year</th>\n",
       "      <th>Present_Price</th>\n",
       "      <th>Kms_Driven</th>\n",
       "      <th>Fuel_Type</th>\n",
       "      <th>Seller_Type</th>\n",
       "      <th>Transmission</th>\n",
       "      <th>Owner</th>\n",
       "    </tr>\n",
       "  </thead>\n",
       "  <tbody>\n",
       "    <tr>\n",
       "      <th>197</th>\n",
       "      <td>2010</td>\n",
       "      <td>0.51</td>\n",
       "      <td>33000</td>\n",
       "      <td>0</td>\n",
       "      <td>1</td>\n",
       "      <td>0</td>\n",
       "      <td>0</td>\n",
       "    </tr>\n",
       "    <tr>\n",
       "      <th>202</th>\n",
       "      <td>2015</td>\n",
       "      <td>5.70</td>\n",
       "      <td>28200</td>\n",
       "      <td>0</td>\n",
       "      <td>0</td>\n",
       "      <td>0</td>\n",
       "      <td>0</td>\n",
       "    </tr>\n",
       "    <tr>\n",
       "      <th>59</th>\n",
       "      <td>2014</td>\n",
       "      <td>35.96</td>\n",
       "      <td>41000</td>\n",
       "      <td>1</td>\n",
       "      <td>0</td>\n",
       "      <td>1</td>\n",
       "      <td>0</td>\n",
       "    </tr>\n",
       "    <tr>\n",
       "      <th>51</th>\n",
       "      <td>2015</td>\n",
       "      <td>30.61</td>\n",
       "      <td>40000</td>\n",
       "      <td>1</td>\n",
       "      <td>0</td>\n",
       "      <td>1</td>\n",
       "      <td>0</td>\n",
       "    </tr>\n",
       "    <tr>\n",
       "      <th>89</th>\n",
       "      <td>2014</td>\n",
       "      <td>6.76</td>\n",
       "      <td>40000</td>\n",
       "      <td>0</td>\n",
       "      <td>0</td>\n",
       "      <td>0</td>\n",
       "      <td>0</td>\n",
       "    </tr>\n",
       "  </tbody>\n",
       "</table>\n",
       "</div>"
      ],
      "text/plain": [
       "     Year  Present_Price  Kms_Driven  Fuel_Type  Seller_Type  Transmission  \\\n",
       "197  2010           0.51       33000          0            1             0   \n",
       "202  2015           5.70       28200          0            0             0   \n",
       "59   2014          35.96       41000          1            0             1   \n",
       "51   2015          30.61       40000          1            0             1   \n",
       "89   2014           6.76       40000          0            0             0   \n",
       "\n",
       "     Owner  \n",
       "197      0  \n",
       "202      0  \n",
       "59       0  \n",
       "51       0  \n",
       "89       0  "
      ]
     },
     "execution_count": 12,
     "metadata": {},
     "output_type": "execute_result"
    }
   ],
   "source": [
    "X_train.head()"
   ]
  },
  {
   "cell_type": "code",
   "execution_count": 32,
   "id": "4bf16f30",
   "metadata": {},
   "outputs": [],
   "source": [
    "from sklearn.preprocessing import StandardScaler\n",
    "sc = StandardScaler()\n",
    "sc.fit(X_train)\n",
    "X_train = sc.transform(X_train)\n",
    "X_test = sc.transform(X_test)"
   ]
  },
  {
   "cell_type": "code",
   "execution_count": 33,
   "id": "3ab5f5fa",
   "metadata": {},
   "outputs": [],
   "source": [
    "lr = LinearRegression()"
   ]
  },
  {
   "cell_type": "code",
   "execution_count": 34,
   "id": "f3c1f94c",
   "metadata": {},
   "outputs": [
    {
     "data": {
      "text/plain": [
       "LinearRegression()"
      ]
     },
     "execution_count": 34,
     "metadata": {},
     "output_type": "execute_result"
    }
   ],
   "source": [
    "lr.fit(X_train, y_train)"
   ]
  },
  {
   "cell_type": "code",
   "execution_count": 35,
   "id": "5a1860b3",
   "metadata": {},
   "outputs": [
    {
     "data": {
      "text/plain": [
       "array([-1.24947492e+00,  4.29324855e+00,  2.07063143e+01,  1.87315141e+01,\n",
       "        4.29521918e+00,  3.51842698e+00,  1.68126690e+00, -1.44807694e-02,\n",
       "        5.77688755e+00,  8.11485977e+00,  9.73330494e+00,  4.34973980e-01,\n",
       "        5.87712308e+00,  5.67592018e+00,  4.35026689e+00,  7.20031793e+00,\n",
       "        5.90358248e+00,  8.03975345e+00,  1.68318590e+00,  3.84212006e+00,\n",
       "        1.75278077e+00,  2.52494121e+00,  4.21313340e+00,  1.51437145e+00,\n",
       "       -3.38194213e+00,  2.05092063e+01,  6.82538951e-01,  5.44681073e+00,\n",
       "        5.68189657e+00,  6.47657096e-01,  2.33089126e+00,  1.03781355e+01,\n",
       "        6.03774137e+00, -1.02107092e+00,  1.01089022e+00,  2.30174427e-01,\n",
       "        5.45024280e-01,  7.42646572e+00, -1.89145501e-02,  7.52726968e+00,\n",
       "        8.44112188e+00,  8.59842643e+00,  9.07191573e-01,  1.36647899e+00,\n",
       "        1.92298031e+00,  2.13341555e+00,  8.32039543e+00,  9.04738511e+00,\n",
       "        4.24636718e+00,  3.93207032e+00,  1.91182573e+00,  1.02181827e+01,\n",
       "        1.02671063e+01,  1.72289120e+00,  6.39482100e+00,  2.19877772e+00,\n",
       "        1.45760578e+00,  1.46897182e+00,  6.31349368e+00,  4.45570938e+00,\n",
       "        5.65955287e+00,  3.19856918e+00,  2.25468637e+00,  9.90931764e+00,\n",
       "        9.81568391e+00, -1.43287822e-01,  1.60804961e+00,  4.70160808e-01,\n",
       "        8.06729649e-01,  1.63948770e+00,  8.22321055e+00,  3.01834760e+00,\n",
       "        1.72452461e+01,  3.66373888e+00, -3.53000753e-02,  3.32437994e-01,\n",
       "        1.77243456e+00,  7.43363640e-01,  1.02660000e+01,  4.27491014e+00,\n",
       "        7.71392811e+00,  5.19970904e+00, -1.57309015e+00,  4.49237128e+00,\n",
       "        2.15946688e+00,  3.61234376e+00,  7.62406842e+00,  1.38283790e+00,\n",
       "        6.24378845e+00,  9.50544999e-01,  5.20303716e+00,  5.66286313e+00,\n",
       "        5.78521704e-01,  5.15314672e+00,  7.23862244e+00,  1.87315141e+01,\n",
       "        1.85850569e-01,  6.54594197e+00,  6.09217253e+00,  2.10827619e+01,\n",
       "        4.48826512e+00,  4.97300617e+00,  1.48264205e+01,  7.75566179e+00,\n",
       "        6.03727866e-01,  9.79409856e+00,  4.89015636e+00, -2.70499837e-01,\n",
       "        7.31421725e+00,  1.00491277e+01,  7.52411939e+00,  5.25197805e+00,\n",
       "        2.36260032e+00,  1.15785535e+01,  1.62506120e+01,  1.89989580e-01,\n",
       "        2.74771851e+00,  4.22176648e+00,  1.85627666e+00,  4.67834934e+00,\n",
       "        4.04355764e-01,  1.31560262e+00,  9.61219675e-01,  4.41954681e+00,\n",
       "        3.59796021e+00,  8.25811464e+00,  4.92847793e+00,  5.12016625e+00,\n",
       "        8.56503455e-01, -9.41139803e-01,  4.31930444e+00, -1.96729241e+00,\n",
       "        1.30641373e+00,  6.21620478e+00,  6.84676634e+00,  1.25846855e+00,\n",
       "        3.72581286e+00, -2.24134708e-01,  8.96859116e+00,  4.94259833e+00,\n",
       "        7.35438192e-01,  5.20372684e+00,  1.09703455e+00,  8.95087802e+00,\n",
       "       -2.03319188e+00,  9.15067302e+00,  4.47369061e+00,  1.88732580e+00,\n",
       "        1.09910898e+01,  3.54219678e+00,  1.73510180e+01,  8.24541891e-02,\n",
       "        9.17730390e+00,  1.05700076e+01,  2.89139944e-01,  6.09634104e+00,\n",
       "       -1.12142584e+00, -1.11809212e-01,  4.36019619e+00,  1.04442791e+00,\n",
       "        6.73611254e+00,  2.35488050e-01,  4.45463985e+00,  4.95762271e+00,\n",
       "        5.20234462e+00,  1.68680256e+01,  6.56335175e+00,  4.42338987e+00,\n",
       "        8.61975460e+00,  2.53656019e+00,  2.26544550e+00,  4.85336684e+00,\n",
       "        6.26293535e+00,  3.93740914e+00,  6.48672870e+00,  1.93918094e+00,\n",
       "        4.74279743e+00, -3.09151825e+00,  6.01561277e+00,  6.03600948e+00,\n",
       "        8.85076017e+00,  1.44091251e+00,  4.43826761e+00,  7.07633242e+00,\n",
       "       -4.76164236e-01,  3.12810725e+00,  1.48419365e+01,  5.42376894e+00,\n",
       "        5.18204655e+00,  1.92994374e+00,  4.42900478e+00,  4.03395598e+00,\n",
       "        1.58768251e+00,  5.89925508e+00,  2.18268834e-02,  1.22950406e+00,\n",
       "        2.87899877e+00, -5.96678153e-01,  2.92124790e+00, -2.10298317e+00,\n",
       "        6.58080233e+00,  3.53146948e+00, -2.55000100e+00,  7.83729645e+00,\n",
       "        6.50942262e+00,  1.39093969e+00,  5.60959070e+00,  4.31136805e+00,\n",
       "       -1.19800076e-01,  6.17230466e+00,  7.42832547e-01,  1.38932132e+00,\n",
       "        9.25138400e+00,  7.86755177e+00,  3.22158819e+00,  3.59636204e+00,\n",
       "        1.98138215e+00, -1.14157149e+00,  2.79378724e+00,  1.97471651e+00,\n",
       "        6.83227132e+00,  6.97099212e-01,  7.20121065e+00,  7.85445017e+00,\n",
       "        2.19195724e+00,  1.26130079e-01,  4.31201110e+00,  2.38630415e+00,\n",
       "       -2.71558680e+00,  2.22385439e+01,  8.44112188e+00,  2.15519927e+00,\n",
       "        3.40881869e+00,  7.25226623e+00,  6.39066575e+00,  2.09012447e+00,\n",
       "        8.50003498e+00,  5.99339155e+00,  4.61506876e+00, -2.60031627e-01,\n",
       "        1.30375011e+00,  7.34830554e+00,  4.21829844e+00,  4.81064111e+00,\n",
       "        5.87678430e+00,  6.65781901e+00,  5.40885116e+00,  7.11042425e+00,\n",
       "        1.39971767e+00,  4.23287502e+01,  5.23960847e+00,  4.67781662e+00,\n",
       "        5.93053982e+00,  1.71615711e+01,  1.70975730e+00,  6.61015582e+00,\n",
       "        5.21280873e+00,  7.83836190e+00,  2.29728300e+00,  1.34725204e+00,\n",
       "        9.15407054e+00,  7.14292245e+00,  1.90589558e+00,  6.41085968e-01,\n",
       "        1.57056726e+00,  2.03393686e+00,  2.77604439e+00,  9.09206803e+00,\n",
       "        6.83152551e+00, -3.81888626e+00])"
      ]
     },
     "execution_count": 35,
     "metadata": {},
     "output_type": "execute_result"
    }
   ],
   "source": [
    "lr.predict(X_train)"
   ]
  },
  {
   "cell_type": "code",
   "execution_count": 36,
   "id": "07e7fc62",
   "metadata": {},
   "outputs": [
    {
     "data": {
      "text/plain": [
       "0.39311067657268395"
      ]
     },
     "execution_count": 36,
     "metadata": {},
     "output_type": "execute_result"
    }
   ],
   "source": [
    "lr.score(X_test, y_test)"
   ]
  },
  {
   "cell_type": "code",
   "execution_count": 37,
   "id": "3fe46139",
   "metadata": {},
   "outputs": [
    {
     "data": {
      "text/plain": [
       "array([[-1.26436568, -0.81201491, -0.10223427, ...,  1.36833491,\n",
       "        -0.37956264, -0.17474081],\n",
       "       [ 0.46500987, -0.22827416, -0.22254744, ..., -0.73081524,\n",
       "        -0.37956264, -0.17474081],\n",
       "       [ 0.11913476,  3.17519306,  0.0982877 , ..., -0.73081524,\n",
       "         2.63461126, -0.17474081],\n",
       "       ...,\n",
       "       [-0.22674035,  1.22376687,  0.47429144, ..., -0.73081524,\n",
       "        -0.37956264, -0.17474081],\n",
       "       [ 1.15676009,  0.18788012, -0.54987448, ..., -0.73081524,\n",
       "        -0.37956264, -0.17474081],\n",
       "       [-3.68549144, -0.61293569,  2.25389878, ...,  1.36833491,\n",
       "        -0.37956264, -0.17474081]])"
      ]
     },
     "execution_count": 37,
     "metadata": {},
     "output_type": "execute_result"
    }
   ],
   "source": [
    "X_train"
   ]
  },
  {
   "cell_type": "code",
   "execution_count": null,
   "id": "784e27e5",
   "metadata": {},
   "outputs": [],
   "source": []
  }
 ],
 "metadata": {
  "kernelspec": {
   "display_name": "Python 3",
   "language": "python",
   "name": "python3"
  },
  "language_info": {
   "codemirror_mode": {
    "name": "ipython",
    "version": 3
   },
   "file_extension": ".py",
   "mimetype": "text/x-python",
   "name": "python",
   "nbconvert_exporter": "python",
   "pygments_lexer": "ipython3",
   "version": "3.8.8"
  }
 },
 "nbformat": 4,
 "nbformat_minor": 5
}
