{
 "cells": [
  {
   "cell_type": "markdown",
   "id": "3d34585e",
   "metadata": {},
   "source": [
    "## Import Libraries"
   ]
  },
  {
   "cell_type": "code",
   "execution_count": 60,
   "id": "1686aca5",
   "metadata": {},
   "outputs": [],
   "source": [
    "import numpy as np\n",
    "import matplotlib.pyplot as plt\n",
    "import pandas as pd\n",
    "import seaborn as sns"
   ]
  },
  {
   "cell_type": "markdown",
   "id": "04e2b83e",
   "metadata": {},
   "source": [
    "## Load DataSet"
   ]
  },
  {
   "cell_type": "code",
   "execution_count": 110,
   "id": "d3ba2b29",
   "metadata": {},
   "outputs": [],
   "source": [
    "df = pd.read_csv(\"CSV_Files/track OL vs WCh.csv\")"
   ]
  },
  {
   "cell_type": "code",
   "execution_count": 111,
   "id": "ae357b07",
   "metadata": {},
   "outputs": [
    {
     "data": {
      "text/html": [
       "<div>\n",
       "<style scoped>\n",
       "    .dataframe tbody tr th:only-of-type {\n",
       "        vertical-align: middle;\n",
       "    }\n",
       "\n",
       "    .dataframe tbody tr th {\n",
       "        vertical-align: top;\n",
       "    }\n",
       "\n",
       "    .dataframe thead th {\n",
       "        text-align: right;\n",
       "    }\n",
       "</style>\n",
       "<table border=\"1\" class=\"dataframe\">\n",
       "  <thead>\n",
       "    <tr style=\"text-align: right;\">\n",
       "      <th></th>\n",
       "      <th>Where</th>\n",
       "      <th>Year</th>\n",
       "      <th>Event</th>\n",
       "      <th>Distance</th>\n",
       "      <th>Sex</th>\n",
       "      <th>Rank</th>\n",
       "      <th>Lane</th>\n",
       "      <th>Athlete</th>\n",
       "      <th>Nation</th>\n",
       "      <th>Time</th>\n",
       "      <th>Notes</th>\n",
       "      <th>Wind m/s</th>\n",
       "    </tr>\n",
       "  </thead>\n",
       "  <tbody>\n",
       "    <tr>\n",
       "      <th>0</th>\n",
       "      <td>Olympics</td>\n",
       "      <td>2021</td>\n",
       "      <td>Run</td>\n",
       "      <td>100</td>\n",
       "      <td>M</td>\n",
       "      <td>1</td>\n",
       "      <td>3.0</td>\n",
       "      <td>Marcell Jacobs</td>\n",
       "      <td>�Italy</td>\n",
       "      <td>9.8</td>\n",
       "      <td>AR</td>\n",
       "      <td>0.0</td>\n",
       "    </tr>\n",
       "    <tr>\n",
       "      <th>1</th>\n",
       "      <td>Olympics</td>\n",
       "      <td>2021</td>\n",
       "      <td>Run</td>\n",
       "      <td>100</td>\n",
       "      <td>M</td>\n",
       "      <td>2</td>\n",
       "      <td>5.0</td>\n",
       "      <td>Fred Kerley</td>\n",
       "      <td>�United States</td>\n",
       "      <td>9.84</td>\n",
       "      <td>PB</td>\n",
       "      <td>0.0</td>\n",
       "    </tr>\n",
       "    <tr>\n",
       "      <th>2</th>\n",
       "      <td>Olympics</td>\n",
       "      <td>2021</td>\n",
       "      <td>Run</td>\n",
       "      <td>100</td>\n",
       "      <td>M</td>\n",
       "      <td>3</td>\n",
       "      <td>9.0</td>\n",
       "      <td>Andre De Grasse</td>\n",
       "      <td>�Canada</td>\n",
       "      <td>9.89</td>\n",
       "      <td>PB</td>\n",
       "      <td>0.0</td>\n",
       "    </tr>\n",
       "    <tr>\n",
       "      <th>3</th>\n",
       "      <td>Olympics</td>\n",
       "      <td>2021</td>\n",
       "      <td>Run</td>\n",
       "      <td>100</td>\n",
       "      <td>M</td>\n",
       "      <td>4</td>\n",
       "      <td>2.0</td>\n",
       "      <td>Akani Simbine</td>\n",
       "      <td>�South Africa</td>\n",
       "      <td>9.93</td>\n",
       "      <td>NaN</td>\n",
       "      <td>0.0</td>\n",
       "    </tr>\n",
       "    <tr>\n",
       "      <th>4</th>\n",
       "      <td>Olympics</td>\n",
       "      <td>2021</td>\n",
       "      <td>Run</td>\n",
       "      <td>100</td>\n",
       "      <td>M</td>\n",
       "      <td>5</td>\n",
       "      <td>7.0</td>\n",
       "      <td>Ronnie Baker</td>\n",
       "      <td>�United States</td>\n",
       "      <td>9.95</td>\n",
       "      <td>NaN</td>\n",
       "      <td>0.0</td>\n",
       "    </tr>\n",
       "    <tr>\n",
       "      <th>5</th>\n",
       "      <td>Olympics</td>\n",
       "      <td>2021</td>\n",
       "      <td>Run</td>\n",
       "      <td>100</td>\n",
       "      <td>M</td>\n",
       "      <td>6</td>\n",
       "      <td>6.0</td>\n",
       "      <td>Su Bingtian</td>\n",
       "      <td>�China</td>\n",
       "      <td>9.98</td>\n",
       "      <td>NaN</td>\n",
       "      <td>0.0</td>\n",
       "    </tr>\n",
       "  </tbody>\n",
       "</table>\n",
       "</div>"
      ],
      "text/plain": [
       "      Where  Year Event  Distance Sex Rank  Lane          Athlete  \\\n",
       "0  Olympics  2021   Run       100   M    1   3.0   Marcell Jacobs   \n",
       "1  Olympics  2021   Run       100   M    2   5.0      Fred Kerley   \n",
       "2  Olympics  2021   Run       100   M    3   9.0  Andre De Grasse   \n",
       "3  Olympics  2021   Run       100   M    4   2.0    Akani Simbine   \n",
       "4  Olympics  2021   Run       100   M    5   7.0     Ronnie Baker   \n",
       "5  Olympics  2021   Run       100   M    6   6.0      Su Bingtian   \n",
       "\n",
       "           Nation  Time Notes  Wind m/s  \n",
       "0          �Italy   9.8    AR       0.0  \n",
       "1  �United States  9.84    PB       0.0  \n",
       "2         �Canada  9.89    PB       0.0  \n",
       "3   �South Africa  9.93   NaN       0.0  \n",
       "4  �United States  9.95   NaN       0.0  \n",
       "5          �China  9.98   NaN       0.0  "
      ]
     },
     "execution_count": 111,
     "metadata": {},
     "output_type": "execute_result"
    }
   ],
   "source": [
    "df.head(6)"
   ]
  },
  {
   "cell_type": "markdown",
   "id": "22f8dfee",
   "metadata": {},
   "source": [
    "## Drop Useless Columns"
   ]
  },
  {
   "cell_type": "code",
   "execution_count": 113,
   "id": "f4334317",
   "metadata": {},
   "outputs": [],
   "source": [
    "df.drop('Athlete', inplace=True, axis=1)\n",
    "df.drop('Nation', inplace=True, axis=1)"
   ]
  },
  {
   "cell_type": "markdown",
   "id": "3617d90c",
   "metadata": {},
   "source": [
    "## View first and last 6 values"
   ]
  },
  {
   "cell_type": "code",
   "execution_count": 114,
   "id": "46b28d60",
   "metadata": {},
   "outputs": [
    {
     "data": {
      "text/html": [
       "<div>\n",
       "<style scoped>\n",
       "    .dataframe tbody tr th:only-of-type {\n",
       "        vertical-align: middle;\n",
       "    }\n",
       "\n",
       "    .dataframe tbody tr th {\n",
       "        vertical-align: top;\n",
       "    }\n",
       "\n",
       "    .dataframe thead th {\n",
       "        text-align: right;\n",
       "    }\n",
       "</style>\n",
       "<table border=\"1\" class=\"dataframe\">\n",
       "  <thead>\n",
       "    <tr style=\"text-align: right;\">\n",
       "      <th></th>\n",
       "      <th>Where</th>\n",
       "      <th>Year</th>\n",
       "      <th>Event</th>\n",
       "      <th>Distance</th>\n",
       "      <th>Sex</th>\n",
       "      <th>Rank</th>\n",
       "      <th>Lane</th>\n",
       "      <th>Time</th>\n",
       "      <th>Notes</th>\n",
       "      <th>Wind m/s</th>\n",
       "    </tr>\n",
       "  </thead>\n",
       "  <tbody>\n",
       "    <tr>\n",
       "      <th>0</th>\n",
       "      <td>Olympics</td>\n",
       "      <td>2021</td>\n",
       "      <td>Run</td>\n",
       "      <td>100</td>\n",
       "      <td>M</td>\n",
       "      <td>1</td>\n",
       "      <td>3.0</td>\n",
       "      <td>9.8</td>\n",
       "      <td>AR</td>\n",
       "      <td>0.0</td>\n",
       "    </tr>\n",
       "    <tr>\n",
       "      <th>1</th>\n",
       "      <td>Olympics</td>\n",
       "      <td>2021</td>\n",
       "      <td>Run</td>\n",
       "      <td>100</td>\n",
       "      <td>M</td>\n",
       "      <td>2</td>\n",
       "      <td>5.0</td>\n",
       "      <td>9.84</td>\n",
       "      <td>PB</td>\n",
       "      <td>0.0</td>\n",
       "    </tr>\n",
       "    <tr>\n",
       "      <th>2</th>\n",
       "      <td>Olympics</td>\n",
       "      <td>2021</td>\n",
       "      <td>Run</td>\n",
       "      <td>100</td>\n",
       "      <td>M</td>\n",
       "      <td>3</td>\n",
       "      <td>9.0</td>\n",
       "      <td>9.89</td>\n",
       "      <td>PB</td>\n",
       "      <td>0.0</td>\n",
       "    </tr>\n",
       "    <tr>\n",
       "      <th>3</th>\n",
       "      <td>Olympics</td>\n",
       "      <td>2021</td>\n",
       "      <td>Run</td>\n",
       "      <td>100</td>\n",
       "      <td>M</td>\n",
       "      <td>4</td>\n",
       "      <td>2.0</td>\n",
       "      <td>9.93</td>\n",
       "      <td>NaN</td>\n",
       "      <td>0.0</td>\n",
       "    </tr>\n",
       "    <tr>\n",
       "      <th>4</th>\n",
       "      <td>Olympics</td>\n",
       "      <td>2021</td>\n",
       "      <td>Run</td>\n",
       "      <td>100</td>\n",
       "      <td>M</td>\n",
       "      <td>5</td>\n",
       "      <td>7.0</td>\n",
       "      <td>9.95</td>\n",
       "      <td>NaN</td>\n",
       "      <td>0.0</td>\n",
       "    </tr>\n",
       "    <tr>\n",
       "      <th>5</th>\n",
       "      <td>Olympics</td>\n",
       "      <td>2021</td>\n",
       "      <td>Run</td>\n",
       "      <td>100</td>\n",
       "      <td>M</td>\n",
       "      <td>6</td>\n",
       "      <td>6.0</td>\n",
       "      <td>9.98</td>\n",
       "      <td>NaN</td>\n",
       "      <td>0.0</td>\n",
       "    </tr>\n",
       "  </tbody>\n",
       "</table>\n",
       "</div>"
      ],
      "text/plain": [
       "      Where  Year Event  Distance Sex Rank  Lane  Time Notes  Wind m/s\n",
       "0  Olympics  2021   Run       100   M    1   3.0   9.8    AR       0.0\n",
       "1  Olympics  2021   Run       100   M    2   5.0  9.84    PB       0.0\n",
       "2  Olympics  2021   Run       100   M    3   9.0  9.89    PB       0.0\n",
       "3  Olympics  2021   Run       100   M    4   2.0  9.93   NaN       0.0\n",
       "4  Olympics  2021   Run       100   M    5   7.0  9.95   NaN       0.0\n",
       "5  Olympics  2021   Run       100   M    6   6.0  9.98   NaN       0.0"
      ]
     },
     "execution_count": 114,
     "metadata": {},
     "output_type": "execute_result"
    }
   ],
   "source": [
    "df.head(6)"
   ]
  },
  {
   "cell_type": "code",
   "execution_count": 115,
   "id": "3221db11",
   "metadata": {},
   "outputs": [
    {
     "data": {
      "text/html": [
       "<div>\n",
       "<style scoped>\n",
       "    .dataframe tbody tr th:only-of-type {\n",
       "        vertical-align: middle;\n",
       "    }\n",
       "\n",
       "    .dataframe tbody tr th {\n",
       "        vertical-align: top;\n",
       "    }\n",
       "\n",
       "    .dataframe thead th {\n",
       "        text-align: right;\n",
       "    }\n",
       "</style>\n",
       "<table border=\"1\" class=\"dataframe\">\n",
       "  <thead>\n",
       "    <tr style=\"text-align: right;\">\n",
       "      <th></th>\n",
       "      <th>Where</th>\n",
       "      <th>Year</th>\n",
       "      <th>Event</th>\n",
       "      <th>Distance</th>\n",
       "      <th>Sex</th>\n",
       "      <th>Rank</th>\n",
       "      <th>Lane</th>\n",
       "      <th>Time</th>\n",
       "      <th>Notes</th>\n",
       "      <th>Wind m/s</th>\n",
       "    </tr>\n",
       "  </thead>\n",
       "  <tbody>\n",
       "    <tr>\n",
       "      <th>450</th>\n",
       "      <td>World Championship</td>\n",
       "      <td>2019</td>\n",
       "      <td>Hurdles</td>\n",
       "      <td>400</td>\n",
       "      <td>F</td>\n",
       "      <td>3</td>\n",
       "      <td>5.0</td>\n",
       "      <td>53.74</td>\n",
       "      <td>PB</td>\n",
       "      <td>0.0</td>\n",
       "    </tr>\n",
       "    <tr>\n",
       "      <th>451</th>\n",
       "      <td>World Championship</td>\n",
       "      <td>2019</td>\n",
       "      <td>Hurdles</td>\n",
       "      <td>400</td>\n",
       "      <td>F</td>\n",
       "      <td>4</td>\n",
       "      <td>9.0</td>\n",
       "      <td>54.06</td>\n",
       "      <td>NR</td>\n",
       "      <td>0.0</td>\n",
       "    </tr>\n",
       "    <tr>\n",
       "      <th>452</th>\n",
       "      <td>World Championship</td>\n",
       "      <td>2019</td>\n",
       "      <td>Hurdles</td>\n",
       "      <td>400</td>\n",
       "      <td>F</td>\n",
       "      <td>5</td>\n",
       "      <td>8.0</td>\n",
       "      <td>54.23</td>\n",
       "      <td>NaN</td>\n",
       "      <td>0.0</td>\n",
       "    </tr>\n",
       "    <tr>\n",
       "      <th>453</th>\n",
       "      <td>World Championship</td>\n",
       "      <td>2019</td>\n",
       "      <td>Hurdles</td>\n",
       "      <td>400</td>\n",
       "      <td>F</td>\n",
       "      <td>6</td>\n",
       "      <td>2.0</td>\n",
       "      <td>54.45</td>\n",
       "      <td>NaN</td>\n",
       "      <td>0.0</td>\n",
       "    </tr>\n",
       "    <tr>\n",
       "      <th>454</th>\n",
       "      <td>World Championship</td>\n",
       "      <td>2019</td>\n",
       "      <td>Hurdles</td>\n",
       "      <td>400</td>\n",
       "      <td>F</td>\n",
       "      <td>7</td>\n",
       "      <td>3.0</td>\n",
       "      <td>54.45</td>\n",
       "      <td>SB</td>\n",
       "      <td>0.0</td>\n",
       "    </tr>\n",
       "    <tr>\n",
       "      <th>455</th>\n",
       "      <td>World Championship</td>\n",
       "      <td>2019</td>\n",
       "      <td>Hurdles</td>\n",
       "      <td>400</td>\n",
       "      <td>F</td>\n",
       "      <td>8</td>\n",
       "      <td>7.0</td>\n",
       "      <td>54.82</td>\n",
       "      <td>NaN</td>\n",
       "      <td>0.0</td>\n",
       "    </tr>\n",
       "  </tbody>\n",
       "</table>\n",
       "</div>"
      ],
      "text/plain": [
       "                  Where  Year    Event  Distance Sex Rank  Lane   Time Notes  \\\n",
       "450  World Championship  2019  Hurdles       400   F    3   5.0  53.74    PB   \n",
       "451  World Championship  2019  Hurdles       400   F    4   9.0  54.06    NR   \n",
       "452  World Championship  2019  Hurdles       400   F    5   8.0  54.23   NaN   \n",
       "453  World Championship  2019  Hurdles       400   F    6   2.0  54.45   NaN   \n",
       "454  World Championship  2019  Hurdles       400   F    7   3.0  54.45    SB   \n",
       "455  World Championship  2019  Hurdles       400   F    8   7.0  54.82   NaN   \n",
       "\n",
       "     Wind m/s  \n",
       "450       0.0  \n",
       "451       0.0  \n",
       "452       0.0  \n",
       "453       0.0  \n",
       "454       0.0  \n",
       "455       0.0  "
      ]
     },
     "execution_count": 115,
     "metadata": {},
     "output_type": "execute_result"
    }
   ],
   "source": [
    "df.tail(6)"
   ]
  },
  {
   "cell_type": "markdown",
   "id": "25825b69",
   "metadata": {},
   "source": [
    "## View Sum of null values"
   ]
  },
  {
   "cell_type": "code",
   "execution_count": 116,
   "id": "2508c63c",
   "metadata": {},
   "outputs": [
    {
     "data": {
      "text/plain": [
       "Where         0\n",
       "Year          0\n",
       "Event         0\n",
       "Distance      0\n",
       "Sex           0\n",
       "Rank         14\n",
       "Lane        255\n",
       "Time          4\n",
       "Notes       276\n",
       "Wind m/s      0\n",
       "dtype: int64"
      ]
     },
     "execution_count": 116,
     "metadata": {},
     "output_type": "execute_result"
    }
   ],
   "source": [
    "df.isnull().sum()"
   ]
  },
  {
   "cell_type": "code",
   "execution_count": 117,
   "id": "7dbc9b9d",
   "metadata": {},
   "outputs": [
    {
     "data": {
      "text/plain": [
       "(456, 10)"
      ]
     },
     "execution_count": 117,
     "metadata": {},
     "output_type": "execute_result"
    }
   ],
   "source": [
    "df.shape"
   ]
  },
  {
   "cell_type": "code",
   "execution_count": 118,
   "id": "0a427cf9",
   "metadata": {},
   "outputs": [
    {
     "name": "stdout",
     "output_type": "stream",
     "text": [
      "<class 'pandas.core.frame.DataFrame'>\n",
      "RangeIndex: 456 entries, 0 to 455\n",
      "Data columns (total 10 columns):\n",
      " #   Column    Non-Null Count  Dtype  \n",
      "---  ------    --------------  -----  \n",
      " 0   Where     456 non-null    object \n",
      " 1   Year      456 non-null    int64  \n",
      " 2   Event     456 non-null    object \n",
      " 3   Distance  456 non-null    int64  \n",
      " 4   Sex       456 non-null    object \n",
      " 5   Rank      442 non-null    object \n",
      " 6   Lane      201 non-null    float64\n",
      " 7   Time      452 non-null    object \n",
      " 8   Notes     180 non-null    object \n",
      " 9   Wind m/s  456 non-null    float64\n",
      "dtypes: float64(2), int64(2), object(6)\n",
      "memory usage: 35.8+ KB\n"
     ]
    }
   ],
   "source": [
    "df.info()"
   ]
  },
  {
   "cell_type": "code",
   "execution_count": 119,
   "id": "c5a04602",
   "metadata": {},
   "outputs": [
    {
     "data": {
      "text/plain": [
       "<AxesSubplot:>"
      ]
     },
     "execution_count": 119,
     "metadata": {},
     "output_type": "execute_result"
    },
    {
     "data": {
      "image/png": "[encoded data removed]",
      "text/plain": [
       "<Figure size 864x504 with 2 Axes>"
      ]
     },
     "metadata": {
      "needs_background": "light"
     },
     "output_type": "display_data"
    }
   ],
   "source": [
    "plt.figure(figsize=(12,7))\n",
    "sns.heatmap(df.isnull())"
   ]
  },
  {
   "cell_type": "code",
   "execution_count": 120,
   "id": "eaf8a94a",
   "metadata": {},
   "outputs": [
    {
     "data": {
      "text/plain": [
       "Where        0.000000\n",
       "Year         0.000000\n",
       "Event        0.000000\n",
       "Distance     0.000000\n",
       "Sex          0.000000\n",
       "Rank         3.070175\n",
       "Lane        55.921053\n",
       "Time         0.877193\n",
       "Notes       60.526316\n",
       "Wind m/s     0.000000\n",
       "dtype: float64"
      ]
     },
     "execution_count": 120,
     "metadata": {},
     "output_type": "execute_result"
    }
   ],
   "source": [
    "null_values = df.isnull().sum() /df.shape[0]*100\n",
    "null_values"
   ]
  },
  {
   "cell_type": "code",
   "execution_count": 121,
   "id": "fc598a38",
   "metadata": {},
   "outputs": [
    {
     "data": {
      "text/plain": [
       "Index(['Lane', 'Notes'], dtype='object')"
      ]
     },
     "execution_count": 121,
     "metadata": {},
     "output_type": "execute_result"
    }
   ],
   "source": [
    "drop_columns = null_values[null_values > 17].keys()\n",
    "drop_columns"
   ]
  },
  {
   "cell_type": "code",
   "execution_count": 122,
   "id": "72e1944f",
   "metadata": {},
   "outputs": [
    {
     "data": {
      "text/plain": [
       "(456, 8)"
      ]
     },
     "execution_count": 122,
     "metadata": {},
     "output_type": "execute_result"
    }
   ],
   "source": [
    "df2_drop_columns = df.drop(columns = drop_columns)\n",
    "df2_drop_columns.shape"
   ]
  },
  {
   "cell_type": "code",
   "execution_count": 123,
   "id": "86d38467",
   "metadata": {},
   "outputs": [
    {
     "data": {
      "text/plain": [
       "<AxesSubplot:>"
      ]
     },
     "execution_count": 123,
     "metadata": {},
     "output_type": "execute_result"
    },
    {
     "data": {
      "image/png": "[encoded data removed]",
      "text/plain": [
       "<Figure size 864x504 with 2 Axes>"
      ]
     },
     "metadata": {
      "needs_background": "light"
     },
     "output_type": "display_data"
    }
   ],
   "source": [
    "plt.figure(figsize=(12,7))\n",
    "sns.heatmap(df2_drop_columns.isnull())"
   ]
  },
  {
   "cell_type": "code",
   "execution_count": 124,
   "id": "72eea7e4",
   "metadata": {},
   "outputs": [],
   "source": [
    "df3_drop_rows = df2_drop_columns.dropna()"
   ]
  },
  {
   "cell_type": "code",
   "execution_count": 125,
   "id": "b892fd89",
   "metadata": {},
   "outputs": [
    {
     "data": {
      "text/plain": [
       "(442, 8)"
      ]
     },
     "execution_count": 125,
     "metadata": {},
     "output_type": "execute_result"
    }
   ],
   "source": [
    "df3_drop_rows.shape"
   ]
  },
  {
   "cell_type": "code",
   "execution_count": 126,
   "id": "632aa3ce",
   "metadata": {},
   "outputs": [
    {
     "data": {
      "text/plain": [
       "<AxesSubplot:>"
      ]
     },
     "execution_count": 126,
     "metadata": {},
     "output_type": "execute_result"
    },
    {
     "data": {
      "image/png": "[encoded data removed]",
      "text/plain": [
       "<Figure size 864x504 with 2 Axes>"
      ]
     },
     "metadata": {
      "needs_background": "light"
     },
     "output_type": "display_data"
    }
   ],
   "source": [
    "plt.figure(figsize=(12,7))\n",
    "sns.heatmap(df3_drop_rows.isnull())"
   ]
  },
  {
   "cell_type": "code",
   "execution_count": 127,
   "id": "39a7573f",
   "metadata": {},
   "outputs": [
    {
     "data": {
      "text/plain": [
       "0"
      ]
     },
     "execution_count": 127,
     "metadata": {},
     "output_type": "execute_result"
    }
   ],
   "source": [
    "df3_drop_rows.isnull().sum().sum()"
   ]
  },
  {
   "cell_type": "code",
   "execution_count": 128,
   "id": "cd3e21e4",
   "metadata": {},
   "outputs": [
    {
     "data": {
      "text/plain": [
       "Index(['Year', 'Distance', 'Wind m/s'], dtype='object')"
      ]
     },
     "execution_count": 128,
     "metadata": {},
     "output_type": "execute_result"
    }
   ],
   "source": [
    "df3_drop_rows.select_dtypes(include=['int64','float64']).columns"
   ]
  },
  {
   "cell_type": "code",
   "execution_count": 129,
   "id": "1cc65bbe",
   "metadata": {},
   "outputs": [
    {
     "data": {
      "text/plain": [
       "(456, 10)"
      ]
     },
     "execution_count": 129,
     "metadata": {},
     "output_type": "execute_result"
    }
   ],
   "source": [
    "df.shape"
   ]
  },
  {
   "cell_type": "code",
   "execution_count": 130,
   "id": "fd55109c",
   "metadata": {},
   "outputs": [
    {
     "data": {
      "text/plain": [
       "(442, 8)"
      ]
     },
     "execution_count": 130,
     "metadata": {},
     "output_type": "execute_result"
    }
   ],
   "source": [
    "df3_drop_rows.shape"
   ]
  },
  {
   "cell_type": "code",
   "execution_count": 131,
   "id": "3a30df48",
   "metadata": {},
   "outputs": [
    {
     "data": {
      "text/html": [
       "<div>\n",
       "<style scoped>\n",
       "    .dataframe tbody tr th:only-of-type {\n",
       "        vertical-align: middle;\n",
       "    }\n",
       "\n",
       "    .dataframe tbody tr th {\n",
       "        vertical-align: top;\n",
       "    }\n",
       "\n",
       "    .dataframe thead th {\n",
       "        text-align: right;\n",
       "    }\n",
       "</style>\n",
       "<table border=\"1\" class=\"dataframe\">\n",
       "  <thead>\n",
       "    <tr style=\"text-align: right;\">\n",
       "      <th></th>\n",
       "      <th>Where</th>\n",
       "      <th>Year</th>\n",
       "      <th>Event</th>\n",
       "      <th>Distance</th>\n",
       "      <th>Sex</th>\n",
       "      <th>Rank</th>\n",
       "      <th>Time</th>\n",
       "      <th>Wind m/s</th>\n",
       "    </tr>\n",
       "  </thead>\n",
       "  <tbody>\n",
       "    <tr>\n",
       "      <th>0</th>\n",
       "      <td>Olympics</td>\n",
       "      <td>2021</td>\n",
       "      <td>Run</td>\n",
       "      <td>100</td>\n",
       "      <td>M</td>\n",
       "      <td>1</td>\n",
       "      <td>9.8</td>\n",
       "      <td>0.0</td>\n",
       "    </tr>\n",
       "    <tr>\n",
       "      <th>1</th>\n",
       "      <td>Olympics</td>\n",
       "      <td>2021</td>\n",
       "      <td>Run</td>\n",
       "      <td>100</td>\n",
       "      <td>M</td>\n",
       "      <td>2</td>\n",
       "      <td>9.84</td>\n",
       "      <td>0.0</td>\n",
       "    </tr>\n",
       "    <tr>\n",
       "      <th>2</th>\n",
       "      <td>Olympics</td>\n",
       "      <td>2021</td>\n",
       "      <td>Run</td>\n",
       "      <td>100</td>\n",
       "      <td>M</td>\n",
       "      <td>3</td>\n",
       "      <td>9.89</td>\n",
       "      <td>0.0</td>\n",
       "    </tr>\n",
       "    <tr>\n",
       "      <th>3</th>\n",
       "      <td>Olympics</td>\n",
       "      <td>2021</td>\n",
       "      <td>Run</td>\n",
       "      <td>100</td>\n",
       "      <td>M</td>\n",
       "      <td>4</td>\n",
       "      <td>9.93</td>\n",
       "      <td>0.0</td>\n",
       "    </tr>\n",
       "    <tr>\n",
       "      <th>4</th>\n",
       "      <td>Olympics</td>\n",
       "      <td>2021</td>\n",
       "      <td>Run</td>\n",
       "      <td>100</td>\n",
       "      <td>M</td>\n",
       "      <td>5</td>\n",
       "      <td>9.95</td>\n",
       "      <td>0.0</td>\n",
       "    </tr>\n",
       "  </tbody>\n",
       "</table>\n",
       "</div>"
      ],
      "text/plain": [
       "      Where  Year Event  Distance Sex Rank  Time  Wind m/s\n",
       "0  Olympics  2021   Run       100   M    1   9.8       0.0\n",
       "1  Olympics  2021   Run       100   M    2  9.84       0.0\n",
       "2  Olympics  2021   Run       100   M    3  9.89       0.0\n",
       "3  Olympics  2021   Run       100   M    4  9.93       0.0\n",
       "4  Olympics  2021   Run       100   M    5  9.95       0.0"
      ]
     },
     "execution_count": 131,
     "metadata": {},
     "output_type": "execute_result"
    }
   ],
   "source": [
    "df3_drop_rows.head()"
   ]
  },
  {
   "cell_type": "code",
   "execution_count": 132,
   "id": "5a3533d8",
   "metadata": {},
   "outputs": [
    {
     "name": "stdout",
     "output_type": "stream",
     "text": [
      "Column Name: Where \n",
      " Olympics              230\n",
      "World Championship    212\n",
      "Name: Where, dtype: int64\n",
      "\n",
      "\n",
      "Column Name: Event \n",
      " Run             287\n",
      "Hurdles          95\n",
      "Steeplechase     60\n",
      "Name: Event, dtype: int64\n",
      "\n",
      "\n",
      "Column Name: Sex \n",
      " F    221\n",
      "M    221\n",
      "Name: Sex, dtype: int64\n",
      "\n",
      "\n"
     ]
    }
   ],
   "source": [
    "for val in ['Where', 'Event', 'Sex']:\n",
    "    print(f\"Column Name: {val} \\n {df3_drop_rows[val].value_counts()}\\n\\n\")"
   ]
  },
  {
   "cell_type": "code",
   "execution_count": 133,
   "id": "eb9649ce",
   "metadata": {},
   "outputs": [
    {
     "name": "stderr",
     "output_type": "stream",
     "text": [
      "<ipython-input-133-31ef7e892799>:1: SettingWithCopyWarning: \n",
      "A value is trying to be set on a copy of a slice from a DataFrame.\n",
      "Try using .loc[row_indexer,col_indexer] = value instead\n",
      "\n",
      "See the caveats in the documentation: https://pandas.pydata.org/pandas-docs/stable/user_guide/indexing.html#returning-a-view-versus-a-copy\n",
      "  df3_drop_rows['Sex'] = df3_drop_rows['Sex'].map(dict(M=1, F=0))\n"
     ]
    }
   ],
   "source": [
    "df3_drop_rows['Sex'] = df3_drop_rows['Sex'].map(dict(M=1, F=0))"
   ]
  },
  {
   "cell_type": "code",
   "execution_count": 134,
   "id": "dea476ef",
   "metadata": {},
   "outputs": [
    {
     "name": "stderr",
     "output_type": "stream",
     "text": [
      "<ipython-input-134-4adf389fc605>:1: SettingWithCopyWarning: \n",
      "A value is trying to be set on a copy of a slice from a DataFrame.\n",
      "Try using .loc[row_indexer,col_indexer] = value instead\n",
      "\n",
      "See the caveats in the documentation: https://pandas.pydata.org/pandas-docs/stable/user_guide/indexing.html#returning-a-view-versus-a-copy\n",
      "  df3_drop_rows['Event'] = df3_drop_rows['Event'].map(dict(Run=0, Hurdles=1, Steeplechase=3))\n"
     ]
    }
   ],
   "source": [
    "df3_drop_rows['Event'] = df3_drop_rows['Event'].map(dict(Run=0, Hurdles=1, Steeplechase=3))"
   ]
  },
  {
   "cell_type": "markdown",
   "id": "d9ff3dd8",
   "metadata": {},
   "source": [
    "### If space in values then use this code"
   ]
  },
  {
   "cell_type": "code",
   "execution_count": 135,
   "id": "c84e0b56",
   "metadata": {},
   "outputs": [
    {
     "name": "stderr",
     "output_type": "stream",
     "text": [
      "<ipython-input-135-2ab1a0daf75e>:1: SettingWithCopyWarning: \n",
      "A value is trying to be set on a copy of a slice from a DataFrame.\n",
      "Try using .loc[row_indexer,col_indexer] = value instead\n",
      "\n",
      "See the caveats in the documentation: https://pandas.pydata.org/pandas-docs/stable/user_guide/indexing.html#returning-a-view-versus-a-copy\n",
      "  df3_drop_rows['Where'] = df3_drop_rows['Where'].replace(\"World Championship\", \"World_Championship\", regex=True)\n"
     ]
    }
   ],
   "source": [
    "df3_drop_rows['Where'] = df3_drop_rows['Where'].replace(\"World Championship\", \"World_Championship\", regex=True)"
   ]
  },
  {
   "cell_type": "code",
   "execution_count": 136,
   "id": "111f3dd2",
   "metadata": {},
   "outputs": [
    {
     "name": "stderr",
     "output_type": "stream",
     "text": [
      "<ipython-input-136-1ea7884bb762>:1: SettingWithCopyWarning: \n",
      "A value is trying to be set on a copy of a slice from a DataFrame.\n",
      "Try using .loc[row_indexer,col_indexer] = value instead\n",
      "\n",
      "See the caveats in the documentation: https://pandas.pydata.org/pandas-docs/stable/user_guide/indexing.html#returning-a-view-versus-a-copy\n",
      "  df3_drop_rows['Where'] = df3_drop_rows['Where'].map(dict(Olympics=0, World_Championship=1))\n"
     ]
    }
   ],
   "source": [
    "df3_drop_rows['Where'] = df3_drop_rows['Where'].map(dict(Olympics=0, World_Championship=1))"
   ]
  },
  {
   "cell_type": "code",
   "execution_count": 137,
   "id": "2ea38da5",
   "metadata": {},
   "outputs": [
    {
     "data": {
      "text/html": [
       "<div>\n",
       "<style scoped>\n",
       "    .dataframe tbody tr th:only-of-type {\n",
       "        vertical-align: middle;\n",
       "    }\n",
       "\n",
       "    .dataframe tbody tr th {\n",
       "        vertical-align: top;\n",
       "    }\n",
       "\n",
       "    .dataframe thead th {\n",
       "        text-align: right;\n",
       "    }\n",
       "</style>\n",
       "<table border=\"1\" class=\"dataframe\">\n",
       "  <thead>\n",
       "    <tr style=\"text-align: right;\">\n",
       "      <th></th>\n",
       "      <th>Where</th>\n",
       "      <th>Year</th>\n",
       "      <th>Event</th>\n",
       "      <th>Distance</th>\n",
       "      <th>Sex</th>\n",
       "      <th>Rank</th>\n",
       "      <th>Time</th>\n",
       "      <th>Wind m/s</th>\n",
       "    </tr>\n",
       "  </thead>\n",
       "  <tbody>\n",
       "    <tr>\n",
       "      <th>451</th>\n",
       "      <td>1</td>\n",
       "      <td>2019</td>\n",
       "      <td>1</td>\n",
       "      <td>400</td>\n",
       "      <td>0</td>\n",
       "      <td>4</td>\n",
       "      <td>54.06</td>\n",
       "      <td>0.0</td>\n",
       "    </tr>\n",
       "    <tr>\n",
       "      <th>452</th>\n",
       "      <td>1</td>\n",
       "      <td>2019</td>\n",
       "      <td>1</td>\n",
       "      <td>400</td>\n",
       "      <td>0</td>\n",
       "      <td>5</td>\n",
       "      <td>54.23</td>\n",
       "      <td>0.0</td>\n",
       "    </tr>\n",
       "    <tr>\n",
       "      <th>453</th>\n",
       "      <td>1</td>\n",
       "      <td>2019</td>\n",
       "      <td>1</td>\n",
       "      <td>400</td>\n",
       "      <td>0</td>\n",
       "      <td>6</td>\n",
       "      <td>54.45</td>\n",
       "      <td>0.0</td>\n",
       "    </tr>\n",
       "    <tr>\n",
       "      <th>454</th>\n",
       "      <td>1</td>\n",
       "      <td>2019</td>\n",
       "      <td>1</td>\n",
       "      <td>400</td>\n",
       "      <td>0</td>\n",
       "      <td>7</td>\n",
       "      <td>54.45</td>\n",
       "      <td>0.0</td>\n",
       "    </tr>\n",
       "    <tr>\n",
       "      <th>455</th>\n",
       "      <td>1</td>\n",
       "      <td>2019</td>\n",
       "      <td>1</td>\n",
       "      <td>400</td>\n",
       "      <td>0</td>\n",
       "      <td>8</td>\n",
       "      <td>54.82</td>\n",
       "      <td>0.0</td>\n",
       "    </tr>\n",
       "  </tbody>\n",
       "</table>\n",
       "</div>"
      ],
      "text/plain": [
       "     Where  Year  Event  Distance  Sex Rank   Time  Wind m/s\n",
       "451      1  2019      1       400    0    4  54.06       0.0\n",
       "452      1  2019      1       400    0    5  54.23       0.0\n",
       "453      1  2019      1       400    0    6  54.45       0.0\n",
       "454      1  2019      1       400    0    7  54.45       0.0\n",
       "455      1  2019      1       400    0    8  54.82       0.0"
      ]
     },
     "execution_count": 137,
     "metadata": {},
     "output_type": "execute_result"
    }
   ],
   "source": [
    "df3_drop_rows.tail()"
   ]
  },
  {
   "cell_type": "code",
   "execution_count": 138,
   "id": "ffb79a63",
   "metadata": {},
   "outputs": [
    {
     "data": {
      "text/html": [
       "<div>\n",
       "<style scoped>\n",
       "    .dataframe tbody tr th:only-of-type {\n",
       "        vertical-align: middle;\n",
       "    }\n",
       "\n",
       "    .dataframe tbody tr th {\n",
       "        vertical-align: top;\n",
       "    }\n",
       "\n",
       "    .dataframe thead th {\n",
       "        text-align: right;\n",
       "    }\n",
       "</style>\n",
       "<table border=\"1\" class=\"dataframe\">\n",
       "  <thead>\n",
       "    <tr style=\"text-align: right;\">\n",
       "      <th></th>\n",
       "      <th>Where</th>\n",
       "      <th>Year</th>\n",
       "      <th>Event</th>\n",
       "      <th>Distance</th>\n",
       "      <th>Sex</th>\n",
       "      <th>Rank</th>\n",
       "      <th>Time</th>\n",
       "      <th>Wind m/s</th>\n",
       "    </tr>\n",
       "  </thead>\n",
       "  <tbody>\n",
       "    <tr>\n",
       "      <th>0</th>\n",
       "      <td>0</td>\n",
       "      <td>2021</td>\n",
       "      <td>0</td>\n",
       "      <td>100</td>\n",
       "      <td>1</td>\n",
       "      <td>1</td>\n",
       "      <td>9.8</td>\n",
       "      <td>0.0</td>\n",
       "    </tr>\n",
       "    <tr>\n",
       "      <th>1</th>\n",
       "      <td>0</td>\n",
       "      <td>2021</td>\n",
       "      <td>0</td>\n",
       "      <td>100</td>\n",
       "      <td>1</td>\n",
       "      <td>2</td>\n",
       "      <td>9.84</td>\n",
       "      <td>0.0</td>\n",
       "    </tr>\n",
       "    <tr>\n",
       "      <th>2</th>\n",
       "      <td>0</td>\n",
       "      <td>2021</td>\n",
       "      <td>0</td>\n",
       "      <td>100</td>\n",
       "      <td>1</td>\n",
       "      <td>3</td>\n",
       "      <td>9.89</td>\n",
       "      <td>0.0</td>\n",
       "    </tr>\n",
       "    <tr>\n",
       "      <th>3</th>\n",
       "      <td>0</td>\n",
       "      <td>2021</td>\n",
       "      <td>0</td>\n",
       "      <td>100</td>\n",
       "      <td>1</td>\n",
       "      <td>4</td>\n",
       "      <td>9.93</td>\n",
       "      <td>0.0</td>\n",
       "    </tr>\n",
       "    <tr>\n",
       "      <th>4</th>\n",
       "      <td>0</td>\n",
       "      <td>2021</td>\n",
       "      <td>0</td>\n",
       "      <td>100</td>\n",
       "      <td>1</td>\n",
       "      <td>5</td>\n",
       "      <td>9.95</td>\n",
       "      <td>0.0</td>\n",
       "    </tr>\n",
       "  </tbody>\n",
       "</table>\n",
       "</div>"
      ],
      "text/plain": [
       "   Where  Year  Event  Distance  Sex Rank  Time  Wind m/s\n",
       "0      0  2021      0       100    1    1   9.8       0.0\n",
       "1      0  2021      0       100    1    2  9.84       0.0\n",
       "2      0  2021      0       100    1    3  9.89       0.0\n",
       "3      0  2021      0       100    1    4  9.93       0.0\n",
       "4      0  2021      0       100    1    5  9.95       0.0"
      ]
     },
     "execution_count": 138,
     "metadata": {},
     "output_type": "execute_result"
    }
   ],
   "source": [
    "df3_drop_rows.head()"
   ]
  },
  {
   "cell_type": "markdown",
   "id": "e9ca3ffd",
   "metadata": {},
   "source": [
    "### Add mean values using fillna "
   ]
  },
  {
   "cell_type": "code",
   "execution_count": 140,
   "id": "8d3d379e",
   "metadata": {},
   "outputs": [
    {
     "name": "stdout",
     "output_type": "stream",
     "text": [
      "Updated Dataframe:\n"
     ]
    },
    {
     "data": {
      "text/html": [
       "<div>\n",
       "<style scoped>\n",
       "    .dataframe tbody tr th:only-of-type {\n",
       "        vertical-align: middle;\n",
       "    }\n",
       "\n",
       "    .dataframe tbody tr th {\n",
       "        vertical-align: top;\n",
       "    }\n",
       "\n",
       "    .dataframe thead th {\n",
       "        text-align: right;\n",
       "    }\n",
       "</style>\n",
       "<table border=\"1\" class=\"dataframe\">\n",
       "  <thead>\n",
       "    <tr style=\"text-align: right;\">\n",
       "      <th></th>\n",
       "      <th>G1</th>\n",
       "      <th>G2</th>\n",
       "      <th>G3</th>\n",
       "      <th>G4</th>\n",
       "    </tr>\n",
       "  </thead>\n",
       "  <tbody>\n",
       "    <tr>\n",
       "      <th>0</th>\n",
       "      <td>10</td>\n",
       "      <td>25.0</td>\n",
       "      <td>15</td>\n",
       "      <td>21</td>\n",
       "    </tr>\n",
       "    <tr>\n",
       "      <th>1</th>\n",
       "      <td>20</td>\n",
       "      <td>27.0</td>\n",
       "      <td>14</td>\n",
       "      <td>22</td>\n",
       "    </tr>\n",
       "    <tr>\n",
       "      <th>2</th>\n",
       "      <td>30</td>\n",
       "      <td>27.0</td>\n",
       "      <td>17</td>\n",
       "      <td>23</td>\n",
       "    </tr>\n",
       "    <tr>\n",
       "      <th>3</th>\n",
       "      <td>40</td>\n",
       "      <td>29.0</td>\n",
       "      <td>11</td>\n",
       "      <td>25</td>\n",
       "    </tr>\n",
       "  </tbody>\n",
       "</table>\n",
       "</div>"
      ],
      "text/plain": [
       "   G1    G2  G3  G4\n",
       "0  10  25.0  15  21\n",
       "1  20  27.0  14  22\n",
       "2  30  27.0  17  23\n",
       "3  40  29.0  11  25"
      ]
     },
     "execution_count": 140,
     "metadata": {},
     "output_type": "execute_result"
    }
   ],
   "source": [
    "GFG_dict = { 'G1': [10, 20,30,40],\n",
    "                'G2': [25, np.NaN, np.NaN, 29],\n",
    "                'G3': [15, 14, 17, 11],\n",
    "                'G4': [21, 22, 23, 25]}\n",
    "  \n",
    "# Create a DataFrame from dictionary\n",
    "gfg = pd.DataFrame(GFG_dict)\n",
    "  \n",
    "#Finding the mean of the column having NaN\n",
    "mean_value=gfg['G2'].mean()\n",
    "  \n",
    "# Replace NaNs in column S2 with the\n",
    "# mean of values in the same column\n",
    "gfg['G2'].fillna(value=mean_value, inplace=True)\n",
    "print('Updated Dataframe:')\n",
    "gfg.head()"
   ]
  },
  {
   "cell_type": "code",
   "execution_count": null,
   "id": "35f97c70",
   "metadata": {},
   "outputs": [],
   "source": []
  }
 ],
 "metadata": {
  "kernelspec": {
   "display_name": "Python 3",
   "language": "python",
   "name": "python3"
  },
  "language_info": {
   "codemirror_mode": {
    "name": "ipython",
    "version": 3
   },
   "file_extension": ".py",
   "mimetype": "text/x-python",
   "name": "python",
   "nbconvert_exporter": "python",
   "pygments_lexer": "ipython3",
   "version": "3.8.8"
  }
 },
 "nbformat": 4,
 "nbformat_minor": 5
}
